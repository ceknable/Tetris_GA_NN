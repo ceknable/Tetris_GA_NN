{
 "cells": [
  {
   "cell_type": "code",
   "execution_count": 5,
   "id": "944a14ec",
   "metadata": {},
   "outputs": [],
   "source": [
    "#Libraries\n",
    "import gymnasium as gym\n",
    "from tetris_gymnasium.envs.tetris import Tetris\n",
    "from tetris_gymnasium.envs.tetris import TetrisState\n",
    "from tetris_gymnasium.wrappers.observation import FeatureVectorObservation\n",
    "\n",
    "import sys\n",
    "import cv2\n",
    "import time\n",
    "import numpy as np\n",
    "\n",
    "import os\n",
    "\n",
    "import neat\n",
    "import random"
   ]
  },
  {
   "cell_type": "markdown",
   "id": "f0ce83c5",
   "metadata": {},
   "source": [
    "# Visualize Random Agent --> Press 'a' to start the clip"
   ]
  },
  {
   "cell_type": "code",
   "execution_count": 12,
   "id": "01d6d021",
   "metadata": {},
   "outputs": [
    {
     "ename": "SystemExit",
     "evalue": "",
     "output_type": "error",
     "traceback": [
      "An exception has occurred, use %tb to see the full traceback.\n",
      "\u001b[1;31mSystemExit\u001b[0m\n"
     ]
    }
   ],
   "source": [
    "if __name__ == \"__main__\":\n",
    "    # Create an instance of Tetris\n",
    "    env = gym.make(\"tetris_gymnasium/Tetris\", render_mode=\"human\")\n",
    "    env.reset()\n",
    "\n",
    "    start_clip =0\n",
    "    # Main game loop\n",
    "    terminated = False\n",
    "    while not terminated:\n",
    "        # Render the current state of the game as text\n",
    "        env.render()\n",
    "\n",
    "        # Pick an action from user input mapped to the keyboard\n",
    "        action = None\n",
    "        while action is None:\n",
    "            key = cv2.waitKey(1)\n",
    "               \n",
    "            if start_clip==0:\n",
    "                if key == ord(\"a\"):\n",
    "                    action = env.unwrapped.actions.move_left\n",
    "                    start_clip=1\n",
    "            else:\n",
    "                action = 2\n",
    "                #print(action)\n",
    "\n",
    "            if (\n",
    "                cv2.getWindowProperty(env.unwrapped.window_name, cv2.WND_PROP_VISIBLE)\n",
    "                == 0\n",
    "            ):\n",
    "                sys.exit()\n",
    "        time.sleep(.1) \n",
    "        # Perform the action\n",
    "        observation, reward, terminated, truncated, info = env.step(action)\n",
    "\n",
    "    # Game over\n",
    "    print(\"Game Over!\")"
   ]
  },
  {
   "cell_type": "markdown",
   "id": "777d6489",
   "metadata": {},
   "source": []
  }
 ],
 "metadata": {
  "kernelspec": {
   "display_name": "Python 3 (ipykernel)",
   "language": "python",
   "name": "python3"
  },
  "language_info": {
   "codemirror_mode": {
    "name": "ipython",
    "version": 3
   },
   "file_extension": ".py",
   "mimetype": "text/x-python",
   "name": "python",
   "nbconvert_exporter": "python",
   "pygments_lexer": "ipython3",
   "version": "3.9.13"
  }
 },
 "nbformat": 4,
 "nbformat_minor": 5
}
